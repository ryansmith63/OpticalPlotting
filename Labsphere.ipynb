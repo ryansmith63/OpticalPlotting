{
 "cells": [
  {
   "cell_type": "code",
   "execution_count": 31,
   "metadata": {},
   "outputs": [
    {
     "name": "stdout",
     "output_type": "stream",
     "text": [
      "[0.95604395604395598, 0.84905660377358494, 1.0540540540540542, 0.94117647058823528, 0.92134831460674149, 0.8539325842696629, 0.86021505376344087, 0.53846153846153844]\n"
     ]
    }
   ],
   "source": [
    "label =  [\"LZ Skived 255nm\", \"LZ Skived 310nm\", \"LZ Skived 400nm\", \"LZ Skived 500nm\", \"LUX 400nm\", \"LUX 500nm\", \"M17 turn 400nm\", \"M17 turn 500nm\"]\n",
    "ibex = np.array([0.87, .90, 0.78, 0.64, 0.82, 0.76, 0.80, 0.49])\n",
    "labsphere = np.array([0.91, 1.06, 0.74, 0.68, 0.89, 0.89, 0.93, 0.91])\n",
    "ratio = []\n",
    "for i in range(len(ibex)):\n",
    "    ratio.append(ibex[i]/labsphere[i])\n",
    "print(ratio)"
   ]
  },
  {
   "cell_type": "code",
   "execution_count": 32,
   "metadata": {},
   "outputs": [
    {
     "name": "stdout",
     "output_type": "stream",
     "text": [
      "0.929268663889\n"
     ]
    }
   ],
   "source": [
    "import numpy as np\n",
    "import matplotlib.pyplot as plt\n",
    "print(np.mean(ratio[0:len(ratio)-2]))"
   ]
  },
  {
   "cell_type": "code",
   "execution_count": 33,
   "metadata": {},
   "outputs": [
    {
     "name": "stdout",
     "output_type": "stream",
     "text": [
      "0.0690438714902\n"
     ]
    }
   ],
   "source": [
    "print(np.std(ratio[0:len(ratio)-2]))"
   ]
  },
  {
   "cell_type": "code",
   "execution_count": 34,
   "metadata": {},
   "outputs": [],
   "source": [
    "ibex = ibex/np.mean(ratio[0:len(ratio)-2])\n",
    "difference = ibex-labsphere"
   ]
  },
  {
   "cell_type": "code",
   "execution_count": 38,
   "metadata": {},
   "outputs": [
    {
     "name": "stdout",
     "output_type": "stream",
     "text": [
      "0.0633055846158\n"
     ]
    }
   ],
   "source": [
    "print(np.std(difference[0:len(difference)-2]))"
   ]
  },
  {
   "cell_type": "code",
   "execution_count": null,
   "metadata": {},
   "outputs": [],
   "source": []
  }
 ],
 "metadata": {
  "kernelspec": {
   "display_name": "Python [default]",
   "language": "python",
   "name": "python3"
  },
  "language_info": {
   "codemirror_mode": {
    "name": "ipython",
    "version": 3
   },
   "file_extension": ".py",
   "mimetype": "text/x-python",
   "name": "python",
   "nbconvert_exporter": "python",
   "pygments_lexer": "ipython3",
   "version": "3.6.8"
  }
 },
 "nbformat": 4,
 "nbformat_minor": 2
}
