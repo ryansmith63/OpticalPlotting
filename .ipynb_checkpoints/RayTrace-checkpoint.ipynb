{
 "cells": [
  {
   "cell_type": "code",
   "execution_count": 6,
   "metadata": {},
   "outputs": [
    {
     "name": "stdout",
     "output_type": "stream",
     "text": [
      "[ 0.95530127 -0.91754353]\n",
      "-0.9604755713777586\n"
     ]
    },
    {
     "data": {
      "text/plain": [
       "(-5, 5)"
      ]
     },
     "execution_count": 6,
     "metadata": {},
     "output_type": "execute_result"
    },
    {
     "data": {
      "image/png": "[encoded data removed]",
      "text/plain": [
       "<Figure size 432x288 with 1 Axes>"
      ]
     },
     "metadata": {
      "needs_background": "light"
     },
     "output_type": "display_data"
    }
   ],
   "source": [
    "import numpy as np\n",
    "import matplotlib.pyplot as plt\n",
    "\n",
    "x0 = -5\n",
    "y0 = 0\n",
    "alpha = 0.5*np.pi/180\n",
    "R = 0.75\n",
    "d = 5.5\n",
    "n1 = 1\n",
    "n2 = [1,1.39]\n",
    "\n",
    "A = 1+np.tan(alpha)**2\n",
    "B = -2*x0*np.tan(alpha)**2+2*y0*np.tan(alpha)\n",
    "C = x0**2*np.tan(alpha)**2-R**2+y0**2-2*y0*x0*np.tan(alpha)\n",
    "x1 = (-B-(B**2-4*A*C)**0.5)/(2*A)\n",
    "y1 = (R**2-x1**2)**0.5\n",
    "theta1 = alpha+np.arctan(-y1/x1)\n",
    "\n",
    "theta2 = np.arcsin(np.array([1, 1/1.39])*np.sin(theta1))\n",
    "x2p = R*np.cos(2*theta2)\n",
    "y2p = R*np.sin(2*theta2)\n",
    "x2 = (-x1/R)*x2p+(y1/R)*y2p\n",
    "y2 = -(y1/R)*x2p+(-x1/R)*y2p\n",
    "\n",
    "eta = theta1-np.arctan(y2/x2)\n",
    "x2pp = np.cos(eta)*x2-np.sin(eta)*y2\n",
    "y2pp = np.sin(eta)*x2+np.cos(eta)*y2\n",
    "xfpp = (d-R)*np.cos(theta1)+x2pp\n",
    "yfpp = y2pp\n",
    "xf = np.cos(eta)*xfpp+np.sin(eta)*yfpp\n",
    "yf = -np.sin(eta)*xfpp+np.cos(eta)*yfpp\n",
    "\n",
    "thetav = np.arctan(yf/xf)*180/np.pi\n",
    "#print(thetav/(2*180*alpha/np.pi))\n",
    "print(thetav)\n",
    "phi = np.linspace(0,2*np.pi)\n",
    "x = R*np.cos(phi)\n",
    "y = R*np.sin(phi)\n",
    "print(thetav[1]/thetav[0])\n",
    "plt.plot([x0,x1,x2[0],xf[0]],[y0,y1,y2[0],yf[0]])\n",
    "plt.plot([x0,x1,x2[1],xf[1]],[y0,y1,y2[1],yf[1]])\n",
    "plt.plot(x,y)\n",
    "plt.axis('equal')\n",
    "plt.xlim([-5,5])\n"
   ]
  },
  {
   "cell_type": "code",
   "execution_count": 2,
   "metadata": {},
   "outputs": [
    {
     "ename": "TypeError",
     "evalue": "can't multiply sequence by non-int of type 'numpy.float64'",
     "output_type": "error",
     "traceback": [
      "\u001b[0;31m---------------------------------------------------------------------------\u001b[0m",
      "\u001b[0;31mTypeError\u001b[0m                                 Traceback (most recent call last)",
      "\u001b[0;32m<ipython-input-2-c88a0598bd0c>\u001b[0m in \u001b[0;36m<module>\u001b[0;34m\u001b[0m\n\u001b[0;32m----> 1\u001b[0;31m \u001b[0mprint\u001b[0m\u001b[0;34m(\u001b[0m\u001b[0mnp\u001b[0m\u001b[0;34m.\u001b[0m\u001b[0msin\u001b[0m\u001b[0;34m(\u001b[0m\u001b[0mtheta1\u001b[0m\u001b[0;34m)\u001b[0m\u001b[0;34m*\u001b[0m\u001b[0;34m[\u001b[0m\u001b[0;36m1\u001b[0m\u001b[0;34m,\u001b[0m\u001b[0;36m1\u001b[0m\u001b[0;34m/\u001b[0m\u001b[0;36m1.69\u001b[0m\u001b[0;34m]\u001b[0m\u001b[0;34m)\u001b[0m\u001b[0;34m\u001b[0m\u001b[0;34m\u001b[0m\u001b[0m\n\u001b[0m",
      "\u001b[0;31mTypeError\u001b[0m: can't multiply sequence by non-int of type 'numpy.float64'"
     ]
    }
   ],
   "source": [
    "print(np.sin(theta1)*[1,1/1.69])"
   ]
  },
  {
   "cell_type": "markdown",
   "metadata": {},
   "source": [
    "## Magnification factors, Levy thesis possible dimensions\n",
    "1\" diameter cell, .1\" offset, PMT distance 1.25\": -1.03105134051 <br/>\n",
    "1\" diameter cell, .1\" offset, PMT distance 1.6\": -1.5959210492 <br/>\n",
    "1\" diameter cell, .1\" offset, PMT distance 2\": -2.24148643056 <br/>\n",
    "1\" diameter cell, .2\" offset, PMT distance 1.25\": -0.996910477022 <br/>\n",
    "1\" diameter cell, .2\" offset, PMT distance 1.6\": -1.53953461594 <br/>\n",
    "1\" diameter cell, .2\" offset, PMT distance 2\": -2.15967648899 <br/>\n",
    "1.5\" diameter cell, .1\" offset, PMT distance 1.25\": -0.359909272204 <br/>\n",
    "1.5\" diameter cell, .1\" offset, PMT distance 1.6\": -0.739006662261 <br/>\n",
    "1.5\" diameter cell, .1\" offset, PMT distance 2\": -1.17226082233 <br/>\n",
    "1.5\" diameter cell, .2\" offset, PMT distance 1.25\": -0.356688431756 <br/>\n",
    "1.5\" diameter cell, .2\" offset, PMT distance 1.6\": -0.729630457176 <br/>\n",
    "1.5\" diameter cell, .2\" offset, PMT distance 2\": -1.1558499148 <br/>\n",
    "\n"
   ]
  },
  {
   "cell_type": "code",
   "execution_count": null,
   "metadata": {},
   "outputs": [],
   "source": []
  }
 ],
 "metadata": {
  "kernelspec": {
   "display_name": "Python [default]",
   "language": "python",
   "name": "python3"
  },
  "language_info": {
   "codemirror_mode": {
    "name": "ipython",
    "version": 3
   },
   "file_extension": ".py",
   "mimetype": "text/x-python",
   "name": "python",
   "nbconvert_exporter": "python",
   "pygments_lexer": "ipython3",
   "version": "3.6.8"
  }
 },
 "nbformat": 4,
 "nbformat_minor": 2
}
