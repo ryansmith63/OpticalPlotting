{
 "cells": [
  {
   "cell_type": "code",
   "execution_count": null,
   "metadata": {},
   "outputs": [],
   "source": [
    "import matplotlib.pyplot as plt\n",
    "\n",
    "wavelength = [255,310,400,500]\n",
    "albedo = [0.91,0.908,0.832,0.681]\n",
    "index = [1.17,1.11,1.24,1.29]\n",
    "K = [-1,-1,7.759,6.49]\n",
    "chi2 = [2.13,7.59,2.39,1.89]"
   ]
  }
 ],
 "metadata": {
  "kernelspec": {
   "display_name": "Python [default]",
   "language": "python",
   "name": "python3"
  },
  "language_info": {
   "codemirror_mode": {
    "name": "ipython",
    "version": 3
   },
   "file_extension": ".py",
   "mimetype": "text/x-python",
   "name": "python",
   "nbconvert_exporter": "python",
   "pygments_lexer": "ipython3",
   "version": "3.6.8"
  }
 },
 "nbformat": 4,
 "nbformat_minor": 2
}
